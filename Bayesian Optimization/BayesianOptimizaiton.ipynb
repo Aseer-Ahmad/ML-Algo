{
 "cells": [
  {
   "cell_type": "code",
   "execution_count": 33,
   "metadata": {},
   "outputs": [],
   "source": [
    "import warnings\n",
    "warnings.filterwarnings('ignore')"
   ]
  },
  {
   "cell_type": "markdown",
   "metadata": {},
   "source": [
    "\n",
    "- Samples. One example from the domain, represented as a vector.\n",
    "- Search Space: Extent of the domain from which samples can be drawn.\n",
    "- Objective Function. Function that takes a sample and returns a cost.\n",
    "- Cost. Numeric score for a sample calculated via the objective function.\n"
   ]
  },
  {
   "cell_type": "markdown",
   "metadata": {},
   "source": [
    "Optimization is often described in terms of minimizing cost, as a maximization problem can easily be transformed into a minimization problem by inverting the calculated cost. Together, the minimum and maximum of a function are referred to as the extreme of the function (or the plural extrema).m"
   ]
  },
  {
   "cell_type": "markdown",
   "metadata": {},
   "source": [
    "The objective function is often easy to specify but can be computationally challenging to calculate or result in a noisy calculation of cost over time. The form of the objective function is unknown and is often highly nonlinear, and highly multi-dimensional defined by the number of input variables. The function is also probably non-convex. This means that local extrema may or may not be the global extrema (e.g. could be misleading and result in premature convergence), hence the name of the task as global rather than local optimization."
   ]
  },
  {
   "cell_type": "markdown",
   "metadata": {},
   "source": [
    "<h2>What Is Bayesian Optimization</h2>\n",
    "\n",
    "Bayesian Optimization is an approach that uses Bayes Theorem to direct the search in order to find the minimum or maximum of an objective function."
   ]
  },
  {
   "cell_type": "markdown",
   "metadata": {},
   "source": [
    "\n",
    "    P(A|B) = P(B|A) * P(A) / P(B)\n"
   ]
  },
  {
   "cell_type": "markdown",
   "metadata": {},
   "source": [
    "We can simplify this calculation by removing the normalizing value of P(B) and describe the conditional probability as a proportional quantity. This is useful as we are not interested in calculating a specific conditional probability, but instead in optimizing a quantity.\n",
    "\n",
    "    P(A|B) = P(B|A) * P(A)\n"
   ]
  },
  {
   "cell_type": "markdown",
   "metadata": {},
   "source": [
    "The conditional probability that we are calculating is referred to generally as the posterior probability; the reverse conditional probability is sometimes referred to as the likelihood, and the marginal probability is referred to as the prior probability; for example:\n",
    "\n",
    "    posterior = likelihood * prior\n"
   ]
  },
  {
   "cell_type": "markdown",
   "metadata": {},
   "source": [
    "We can devise specific samples (x1, x2, …, xn) and evaluate them using the objective function f(xi) that returns the cost or outcome for the sample xi. Samples and their outcome are collected sequentially and define our data D, e.g. D = {xi, f(xi), … xn, f(xn)} and is used to define the prior. The likelihood function is defined as the probability of observing the data given the function P(D | f). This likelihood function will change as more observations are collected.\n",
    "\n",
    "    P(f|D) = P(D|f) * P(f)\n",
    "\n",
    "The posterior represents everything we know about the objective function. It is an approximation of the objective function and can be used to estimate the cost of different candidate samples that we may want to evaluate.\n",
    "\n",
    "In this way, the posterior probability is a surrogate objective function."
   ]
  },
  {
   "cell_type": "markdown",
   "metadata": {},
   "source": [
    "\n",
    "    Surrogate Function: Bayesian approximation of the objective function that can be sampled efficiently.\n",
    "\n",
    "The surrogate function gives us an estimate of the objective function, which can be used to direct future sampling. Sampling involves careful use of the posterior in a function known as the “acquisition” function, e.g. for acquiring more samples. We want to use our belief about the objective function to sample the area of the search space that is most likely to pay off, therefore the acquisition will optimize the conditional probability of locations in the search to generate the next sample.\n",
    "\n",
    "    Acquisition Function: Technique by which the posterior is used to select the next sample from the search space.\n",
    "\n",
    "Once additional samples and their evaluation via the objective function f() have been collected, they are added to data D and the posterior is then updated.\n",
    "\n",
    "This process is repeated until the extrema of the objective function is located, a good enough result is located, or resources are exhausted."
   ]
  },
  {
   "cell_type": "markdown",
   "metadata": {},
   "source": [
    "## Test Problem"
   ]
  },
  {
   "cell_type": "code",
   "execution_count": 4,
   "metadata": {},
   "outputs": [],
   "source": [
    "import numpy as np\n",
    "import matplotlib.pyplot as plt"
   ]
  },
  {
   "cell_type": "code",
   "execution_count": 5,
   "metadata": {},
   "outputs": [],
   "source": [
    "def objective(x, noise=0.1):\n",
    "\tnoise = np.random.normal(loc=0, scale=noise)\n",
    "\treturn (x**2 * np.sin(5 * np.pi * x)**6.0) + noise"
   ]
  },
  {
   "cell_type": "code",
   "execution_count": 7,
   "metadata": {},
   "outputs": [
    {
     "name": "stdout",
     "output_type": "stream",
     "text": [
      "Optima: x=0.900, y=0.810\n"
     ]
    },
    {
     "data": {
      "image/png": "[encoded data removed]",
      "text/plain": [
       "<Figure size 432x288 with 1 Axes>"
      ]
     },
     "metadata": {
      "needs_background": "light"
     },
     "output_type": "display_data"
    }
   ],
   "source": [
    "X = np.arange(0, 1, .01)\n",
    "# sample the domain without noise\n",
    "y = [objective(i, 0) for i in X]\n",
    "# sample the domain with noise\n",
    "ynoise = [objective(i) for i in X]\n",
    "\n",
    "# find best result\n",
    "ix = np.argmax(y)\n",
    "print('Optima: x=%.3f, y=%.3f' % (X[ix], y[ix]))\n",
    "\n",
    "# plot the points with noise\n",
    "plt.plot(X, ynoise)\n",
    "# plot the points without noise\n",
    "plt.plot(X, y)\n",
    "# show the plot\n",
    "plt.hlines(y[ix], 0, 1, color = 'red')\n",
    "plt.show()"
   ]
  },
  {
   "cell_type": "markdown",
   "metadata": {},
   "source": [
    "## Surrogate Function"
   ]
  },
  {
   "cell_type": "markdown",
   "metadata": {},
   "source": [
    "A number of techniques can be used for this, although the most popular is to treat the problem as a regression predictive modeling problem with the data representing the input and the score representing the output to the model. This is often best modeled using a random forest or a Gaussian Process.\n",
    "\n",
    "A Gaussian Process, or GP, is a model that constructs a joint probability distribution over the variables, assuming a multivariate Gaussian distribution. As such, it is capable of efficient and effective summarization of a large number of functions and smooth transition as more observations are made available to the model."
   ]
  },
  {
   "cell_type": "code",
   "execution_count": 8,
   "metadata": {},
   "outputs": [],
   "source": [
    "from sklearn.gaussian_process import GaussianProcessRegressor"
   ]
  },
  {
   "cell_type": "code",
   "execution_count": 9,
   "metadata": {},
   "outputs": [
    {
     "data": {
      "text/plain": [
       "GaussianProcessRegressor(alpha=1e-10, copy_X_train=True, kernel=None,\n",
       "                         n_restarts_optimizer=0, normalize_y=False,\n",
       "                         optimizer='fmin_l_bfgs_b', random_state=None)"
      ]
     },
     "execution_count": 9,
     "metadata": {},
     "output_type": "execute_result"
    }
   ],
   "source": [
    "X = np.random.random(100)\n",
    "y = [objective(x) for x in X]\n",
    "\n",
    "model = GaussianProcessRegressor()\n",
    "model.fit(X.reshape(-1, 1), y)"
   ]
  },
  {
   "cell_type": "code",
   "execution_count": 47,
   "metadata": {},
   "outputs": [],
   "source": [
    "# yhat = model.predict(X.reshape(-1,1), return_std=True)  "
   ]
  },
  {
   "cell_type": "code",
   "execution_count": 10,
   "metadata": {},
   "outputs": [],
   "source": [
    "def surrogate(model, X):\n",
    "    return model.predict(X, return_std = True)"
   ]
  },
  {
   "cell_type": "code",
   "execution_count": 11,
   "metadata": {},
   "outputs": [
    {
     "name": "stderr",
     "output_type": "stream",
     "text": [
      "/home/cepheus/anaconda3/envs/ai/lib/python3.7/site-packages/sklearn/gaussian_process/_gpr.py:362: UserWarning: Predicted variances smaller than 0. Setting those variances to 0.\n",
      "  warnings.warn(\"Predicted variances smaller than 0. \"\n"
     ]
    }
   ],
   "source": [
    "Xsamples = np.arange(0, 1, .01)\n",
    "samples, _ = surrogate(model, Xsamples.reshape(-1, 1))"
   ]
  },
  {
   "cell_type": "code",
   "execution_count": 12,
   "metadata": {},
   "outputs": [
    {
     "data": {
      "image/png": "[encoded data removed]",
      "text/plain": [
       "<Figure size 432x288 with 1 Axes>"
      ]
     },
     "metadata": {
      "needs_background": "light"
     },
     "output_type": "display_data"
    }
   ],
   "source": [
    "plt.scatter(X, y)\n",
    "plt.plot(Xsamples, samples)\n",
    "plt.show()"
   ]
  },
  {
   "cell_type": "markdown",
   "metadata": {},
   "source": [
    "The data sample and a grid of points across the domain evaluated via the surrogate function"
   ]
  },
  {
   "cell_type": "markdown",
   "metadata": {},
   "source": [
    "## Acquisition Function"
   ]
  },
  {
   "cell_type": "markdown",
   "metadata": {},
   "source": [
    "his involves two pieces: the search strategy used to navigate the domain in response to the surrogate function and the acquisition function that is used to interpret and score the response from the surrogate function."
   ]
  },
  {
   "cell_type": "markdown",
   "metadata": {},
   "source": [
    "The acquisition function is responsible for scoring or estimating the likelihood that a given candidate sample (input) is worth evaluating with the real objective function.\n",
    "\n",
    "We could just use the surrogate score directly. Alternately, given that we have chosen a Gaussian Process model as the surrogate function, we can use the probabilistic information from this model in the acquisition function to calculate the probability that a given sample is worth evaluating.\n",
    "\n",
    "There are many different types of probabilistic acquisition functions that can be used, each providing a different trade-off for how exploitative (greedy) and explorative they are.\n",
    "\n",
    "Three common examples include:\n",
    "\n",
    "    Probability of Improvement (PI).\n",
    "    Expected Improvement (EI).\n",
    "    Lower Confidence Bound (LCB).\n",
    "\n",
    "The Probability of Improvement method is the simplest, whereas the Expected Improvement method is the most commonly used."
   ]
  },
  {
   "cell_type": "markdown",
   "metadata": {},
   "source": [
    "\n",
    "    PI = cdf((mu – best_mu) / stdev)\n",
    "\n",
    "Where PI is the probability of improvement, cdf() is the normal cumulative distribution function, mu is the mean of the surrogate function for a given sample x, stdev is the standard deviation of the surrogate function for a given sample x, and best_mu is the mean of the surrogate function for the best sample found so far."
   ]
  },
  {
   "cell_type": "code",
   "execution_count": 17,
   "metadata": {},
   "outputs": [],
   "source": [
    "from scipy.stats import norm"
   ]
  },
  {
   "cell_type": "code",
   "execution_count": 21,
   "metadata": {},
   "outputs": [],
   "source": [
    "def opt_acquisition(X, model):\n",
    "    Xsamples = np.random.random(100).reshape(-1, 1)\n",
    "    scores = acquisition(X, Xsamples, model)\n",
    "\t\n",
    "    # locate the index of the largest scores\n",
    "    ix = np.argmax(scores)\n",
    "    return Xsamples[ix, 0]\n",
    "\n",
    "def acquisition(X, Xsamples, model):\n",
    "    #best mu from surrogate so far\n",
    "    yhat ,_ = surrogate(model, X.reshape(-1, 1))\n",
    "    best_mu = np.max(yhat)\n",
    "    # now calculate mu and std from surrogate\n",
    "    mu, std = surrogate(model, Xsamples)\n",
    "    mu = mu[:, 0]\n",
    "    probs = norm.cdf((mu - best_mu) / (std + 1e-9) ) #small no. to avoid divide by zero\n",
    "    return probs\n"
   ]
  },
  {
   "cell_type": "markdown",
   "metadata": {},
   "source": [
    "## Test run to get max of objective function"
   ]
  },
  {
   "cell_type": "code",
   "execution_count": 48,
   "metadata": {},
   "outputs": [],
   "source": [
    "def plot(X, y, model):\n",
    "\tplt.scatter(X, y)\n",
    "\t# line plot of surrogate function across domain\n",
    "\tXsamples = np.arange(0, 1, 0.001)\n",
    "\tXsamples = Xsamples.reshape( -1, 1)\n",
    "\tysamples, _ = surrogate(model, Xsamples)\n",
    "\tplt.plot(Xsamples, ysamples, color = 'red')\n",
    "\t# show the plot\n",
    "\tplt.show()"
   ]
  },
  {
   "cell_type": "code",
   "execution_count": 50,
   "metadata": {
    "scrolled": true
   },
   "outputs": [
    {
     "name": "stdout",
     "output_type": "stream",
     "text": [
      ">x=0.913, f()=0.427588, actual=0.704\n",
      ">x=0.907, f()=0.456589, actual=0.895\n",
      ">x=0.906, f()=0.493195, actual=0.606\n",
      ">x=0.586, f()=0.143818, actual=0.147\n",
      ">x=0.926, f()=0.477123, actual=0.642\n",
      ">x=0.924, f()=0.492737, actual=0.668\n",
      ">x=0.853, f()=0.405117, actual=0.042\n",
      ">x=0.921, f()=0.499283, actual=0.707\n",
      ">x=0.111, f()=0.027674, actual=-0.017\n",
      ">x=0.913, f()=0.521561, actual=0.730\n",
      ">x=0.881, f()=0.493362, actual=0.395\n",
      ">x=0.907, f()=0.529366, actual=0.963\n",
      ">x=0.911, f()=0.552315, actual=0.770\n",
      ">x=0.936, f()=0.508293, actual=0.493\n",
      ">x=0.909, f()=0.562618, actual=1.034\n",
      ">x=0.893, f()=0.565014, actual=0.636\n",
      ">x=0.907, f()=0.586319, actual=0.777\n",
      ">x=0.865, f()=0.488785, actual=0.215\n",
      ">x=0.914, f()=0.586479, actual=0.586\n",
      ">x=0.916, f()=0.585327, actual=0.765\n",
      ">x=0.896, f()=0.579313, actual=0.846\n",
      ">x=0.935, f()=0.551773, actual=0.339\n",
      ">x=0.893, f()=0.578075, actual=0.707\n",
      ">x=0.904, f()=0.597599, actual=0.906\n",
      ">x=0.911, f()=0.610266, actual=0.935\n",
      ">x=0.901, f()=0.614914, actual=0.987\n",
      ">x=0.364, f()=0.036572, actual=0.046\n",
      ">x=0.920, f()=0.623959, actual=0.537\n",
      ">x=0.910, f()=0.629482, actual=0.821\n",
      ">x=0.920, f()=0.627041, actual=0.751\n",
      ">x=0.915, f()=0.636501, actual=0.795\n",
      ">x=0.505, f()=0.175068, actual=0.330\n",
      ">x=0.137, f()=0.034925, actual=0.011\n",
      ">x=0.916, f()=0.640934, actual=0.673\n",
      ">x=0.406, f()=0.087341, actual=-0.125\n",
      ">x=0.327, f()=0.002626, actual=-0.129\n",
      ">x=0.925, f()=0.624416, actual=0.660\n",
      ">x=0.629, f()=0.118855, actual=0.112\n",
      ">x=0.606, f()=0.143070, actual=0.097\n",
      ">x=0.585, f()=0.159954, actual=-0.065\n",
      ">x=0.153, f()=0.031378, actual=0.010\n",
      ">x=0.620, f()=0.114658, actual=0.178\n",
      ">x=0.890, f()=0.617172, actual=0.821\n",
      ">x=0.924, f()=0.632481, actual=0.530\n",
      ">x=0.916, f()=0.644070, actual=0.798\n",
      ">x=0.911, f()=0.651142, actual=0.702\n",
      ">x=0.919, f()=0.644562, actual=0.834\n",
      ">x=0.910, f()=0.656937, actual=0.746\n",
      ">x=0.822, f()=0.337673, actual=0.121\n",
      ">x=0.182, f()=0.022354, actual=0.058\n",
      ">x=0.799, f()=0.231182, actual=-0.134\n",
      ">x=0.909, f()=0.655823, actual=0.724\n",
      ">x=0.894, f()=0.634911, actual=0.883\n",
      ">x=0.916, f()=0.661133, actual=0.730\n",
      ">x=0.907, f()=0.662655, actual=0.609\n",
      ">x=0.915, f()=0.662106, actual=0.734\n",
      ">x=0.939, f()=0.587254, actual=0.257\n",
      ">x=0.922, f()=0.646294, actual=0.611\n",
      ">x=0.906, f()=0.656414, actual=0.985\n",
      ">x=0.909, f()=0.664230, actual=0.706\n",
      ">x=0.907, f()=0.663841, actual=1.088\n",
      ">x=0.917, f()=0.668343, actual=0.298\n",
      ">x=0.895, f()=0.647778, actual=0.827\n",
      ">x=0.904, f()=0.666500, actual=0.876\n",
      ">x=0.902, f()=0.667208, actual=1.004\n",
      ">x=0.917, f()=0.673069, actual=0.559\n",
      ">x=0.910, f()=0.676781, actual=0.771\n",
      ">x=0.909, f()=0.678360, actual=0.619\n",
      ">x=0.908, f()=0.677143, actual=0.880\n",
      ">x=0.912, f()=0.680229, actual=0.597\n",
      ">x=0.912, f()=0.678940, actual=0.799\n",
      ">x=0.914, f()=0.679810, actual=0.799\n",
      ">x=0.908, f()=0.682888, actual=0.666\n",
      ">x=0.913, f()=0.682098, actual=0.734\n",
      ">x=0.907, f()=0.682873, actual=0.866\n",
      ">x=0.901, f()=0.679913, actual=0.804\n",
      ">x=0.904, f()=0.684990, actual=0.919\n",
      ">x=0.902, f()=0.685993, actual=0.584\n",
      ">x=0.913, f()=0.688951, actual=0.642\n",
      ">x=0.901, f()=0.683294, actual=0.973\n",
      ">x=0.919, f()=0.684376, actual=0.573\n",
      ">x=0.890, f()=0.661934, actual=0.821\n",
      ">x=0.905, f()=0.692406, actual=0.673\n",
      ">x=0.912, f()=0.692963, actual=0.716\n",
      ">x=0.912, f()=0.693258, actual=0.839\n",
      ">x=0.898, f()=0.686069, actual=0.810\n",
      ">x=0.907, f()=0.696899, actual=0.989\n",
      ">x=0.879, f()=0.634291, actual=0.701\n",
      ">x=0.906, f()=0.700943, actual=0.904\n",
      ">x=0.907, f()=0.703918, actual=0.678\n",
      ">x=0.910, f()=0.703751, actual=0.773\n",
      ">x=0.906, f()=0.703638, actual=0.906\n",
      ">x=0.897, f()=0.695408, actual=0.710\n",
      ">x=0.906, f()=0.706339, actual=0.852\n",
      ">x=0.873, f()=0.616224, actual=0.424\n",
      ">x=0.919, f()=0.698088, actual=0.747\n",
      ">x=0.915, f()=0.704878, actual=0.718\n",
      ">x=0.914, f()=0.706120, actual=0.750\n",
      ">x=0.905, f()=0.706423, actual=0.679\n",
      ">x=0.911, f()=0.707851, actual=0.949\n"
     ]
    },
    {
     "data": {
      "image/png": "[encoded data removed]",
      "text/plain": [
       "<Figure size 432x288 with 1 Axes>"
      ]
     },
     "metadata": {
      "needs_background": "light"
     },
     "output_type": "display_data"
    }
   ],
   "source": [
    "X = np.random.random(100).reshape(-1, 1)\n",
    "y = [objective(x) for x in X]\n",
    "\n",
    "model = GaussianProcessRegressor()\n",
    "model.fit(X, y)\n",
    "\n",
    "#perform 100 optimization trials\n",
    "for i in range(100):\n",
    "    #select randomly from sample space the best \n",
    "    x = opt_acquisition(X, model)\n",
    "    \n",
    "    actual = objective(x)\n",
    "    est, _ = surrogate(model, [[x]])\n",
    "    print('>x=%.3f, f()=%3f, actual=%.3f' % (x, est, actual))\n",
    "    \n",
    "    #update data\n",
    "    X = np.vstack( (X, [[x]]))\n",
    "    y = np.vstack( (y, [[actual]]) )\n",
    "    \n",
    "    #update model\n",
    "    model.fit(X, y)\n",
    "    \n",
    "plot(X, y , model)\n",
    "# ix = np.argmax(y)"
   ]
  },
  {
   "cell_type": "markdown",
   "metadata": {},
   "source": [
    "## Hyperparameter Tuning with Bayesian Optimization"
   ]
  },
  {
   "cell_type": "code",
   "execution_count": 57,
   "metadata": {},
   "outputs": [],
   "source": [
    "from sklearn.datasets import make_blobs\n",
    "from sklearn.model_selection import cross_val_score\n",
    "from sklearn.neighbors import KNeighborsClassifier\n",
    "from skopt.space import Integer\n",
    "from skopt.utils import use_named_args\n",
    "from skopt import gp_minimize"
   ]
  },
  {
   "cell_type": "code",
   "execution_count": 58,
   "metadata": {},
   "outputs": [],
   "source": [
    "X, y = make_blobs(n_samples = 500, centers = 2, n_features = 3)\n",
    "model = KNeighborsClassifier()"
   ]
  },
  {
   "cell_type": "code",
   "execution_count": 63,
   "metadata": {},
   "outputs": [
    {
     "name": "stdout",
     "output_type": "stream",
     "text": [
      "Best Accuracy: 1.000\n",
      "Best Parameters: n_neighbors=4, p=2\n",
      "CPU times: user 41.3 s, sys: 1.88 s, total: 43.2 s\n",
      "Wall time: 43 s\n"
     ]
    }
   ],
   "source": [
    "%%time\n",
    "#hyperparameter search space\n",
    "search_space = [ Integer(1, 5, name = 'n_neighbors'),\n",
    "               Integer(1, 2, name = 'p')]\n",
    "\n",
    "@use_named_args(search_space)\n",
    "def evaluate_model(**params):\n",
    "    model.set_params(**params)\n",
    "    result = cross_val_score(model, X,y , cv=5, scoring = 'accuracy', n_jobs = -1)\n",
    "    estimate = np.mean(result)\n",
    "    return 1.0 - estimate\n",
    "    \n",
    "result = gp_minimize(evaluate_model, search_space)\n",
    "\n",
    "\n",
    "# summarizing finding:\n",
    "print('Best Accuracy: %.3f' % (1.0 - result.fun))\n",
    "print('Best Parameters: n_neighbors=%d, p=%d' % (result.x[0], result.x[1]))"
   ]
  },
  {
   "cell_type": "code",
   "execution_count": null,
   "metadata": {},
   "outputs": [],
   "source": []
  }
 ],
 "metadata": {
  "kernelspec": {
   "display_name": "Python 3",
   "language": "python",
   "name": "python3"
  },
  "language_info": {
   "codemirror_mode": {
    "name": "ipython",
    "version": 3
   },
   "file_extension": ".py",
   "mimetype": "text/x-python",
   "name": "python",
   "nbconvert_exporter": "python",
   "pygments_lexer": "ipython3",
   "version": "3.7.7"
  }
 },
 "nbformat": 4,
 "nbformat_minor": 4
}
